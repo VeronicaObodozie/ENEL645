{
 "cells": [
  {
   "cell_type": "markdown",
   "metadata": {},
   "source": [
    "# Garbage Classification Model\n",
    "\n",
    "This assignment follows the model proposed in assignment 1 to solve the garbage classification problem.\n",
    "\n",
    "\n",
    "The notebook highlights the predictions from the model and the reasons for decision making."
   ]
  },
  {
   "cell_type": "markdown",
   "metadata": {},
   "source": [
    "The data came pre-split with the assignment instructions.\n",
    "Number of images in the training folder creates the batch size when training\n",
    "Initial number of epochs was set arbitrarily"
   ]
  },
  {
   "cell_type": "markdown",
   "metadata": {},
   "source": [
    "## Experimental Setup\n"
   ]
  },
  {
   "cell_type": "code",
   "execution_count": null,
   "metadata": {},
   "outputs": [],
   "source": [
    "# Metrics Misclassified model"
   ]
  },
  {
   "cell_type": "code",
   "execution_count": null,
   "metadata": {},
   "outputs": [],
   "source": []
  },
  {
   "cell_type": "code",
   "execution_count": null,
   "metadata": {},
   "outputs": [],
   "source": []
  },
  {
   "cell_type": "markdown",
   "metadata": {},
   "source": [
    "\n",
    "# References\n",
    "\n",
    "These were useful in writing the code, and implementing the model.\n",
    "\n",
    "1.   CNN Minst tutorial\n",
    "2.   https://www.pluralsight.com/resources/blog/guides/introduction-to-resnet\n",
    "3. https://pytorch.org/tutorials/beginner/transfer_learning_tutorial.html\n",
    "4. Multimodal https://www.kaggle.com/code/fabraz/image-and-text-multimodal\n",
    "5. https://wandb.ai/mostafaibrahim17/ml-articles/reports/The-Basics-of-ResNet50---Vmlldzo2NDkwNDE2#pytorch\n",
    "6. Custom Data set looking at ImageFolder https://dilithjay.com/blog/custom-image-classifier-with-pytorch\n",
    "\n"
   ]
  }
 ],
 "metadata": {
  "kernelspec": {
   "display_name": "Python 3",
   "language": "python",
   "name": "python3"
  },
  "language_info": {
   "codemirror_mode": {
    "name": "ipython",
    "version": 3
   },
   "file_extension": ".py",
   "mimetype": "text/x-python",
   "name": "python",
   "nbconvert_exporter": "python",
   "pygments_lexer": "ipython3",
   "version": "3.8.5"
  }
 },
 "nbformat": 4,
 "nbformat_minor": 4
}

{
 "cells": [
  {
   "cell_type": "markdown",
   "metadata": {},
   "source": [
    "1. Look at the dataset\n",
    "    - Different sizes of images\n",
    "    - Samples with wrong labels\n",
    "    - Different backgrounds\n",
    "    - File formats\n",
    "    - Intensity range\n",
    "    - Class distribution\n",
    "\n",
    "- Other suggestions:\n",
    "    - Use config files to make experimenting different configs easily\n",
    "    - Design locally, but run experiments in the cluster\n",
    "\n"
   ]
  },
  {
   "cell_type": "code",
   "execution_count": null,
   "metadata": {},
   "outputs": [],
   "source": []
  },
  {
   "cell_type": "markdown",
   "metadata": {},
   "source": [
    "2. Pre-process the data\n",
    "    - Padded the images so they are square\n",
    "    - Resized the images to a managable size"
   ]
  },
  {
   "cell_type": "code",
   "execution_count": null,
   "metadata": {},
   "outputs": [],
   "source": [
    "# Pre processing for ResNet-50. Inputs and output sizes, "
   ]
  },
  {
   "cell_type": "markdown",
   "metadata": {},
   "source": [
    "3. Experimental setup\n",
    "    -   Single train/val/test split: 70%/ 15%/ 15%\n",
    "    -   Set data augmentation\n",
    "    -   Create data loaders"
   ]
  },
  {
   "cell_type": "code",
   "execution_count": null,
   "metadata": {},
   "outputs": [],
   "source": []
  },
  {
   "cell_type": "markdown",
   "metadata": {},
   "source": [
    "\n",
    "4. Transfer learning\n",
    "    - SOTA models on imagenet\n",
    "    - Add and train new top/predictor\n",
    "    - Fine-tune all or some feature learning layers "
   ]
  },
  {
   "cell_type": "code",
   "execution_count": null,
   "metadata": {},
   "outputs": [],
   "source": []
  },
  {
   "cell_type": "markdown",
   "metadata": {},
   "source": [
    "5. Loss and metrics\n",
    "    -   Loss: categorical cross-entropy\n",
    "    -   Metrics: Accuracy, sensitivity, specificity, confusion matrix, training and inference time?"
   ]
  },
  {
   "cell_type": "code",
   "execution_count": null,
   "metadata": {},
   "outputs": [],
   "source": []
  },
  {
   "cell_type": "markdown",
   "metadata": {},
   "source": [
    "6. Set your callbacks and track your experiments\n",
    "    - Early stopping - patience\n",
    "    - Model check point\n",
    "    - Learning rate scheduler\n",
    "    - Weights and biases (train/val loss)"
   ]
  },
  {
   "cell_type": "code",
   "execution_count": null,
   "metadata": {},
   "outputs": [],
   "source": []
  },
  {
   "cell_type": "markdown",
   "metadata": {},
   "source": [
    "7. Set your main hyperparameters\n",
    "    - batch size\n",
    "    - learning rate\n",
    "    - number of epochs"
   ]
  },
  {
   "cell_type": "code",
   "execution_count": null,
   "metadata": {},
   "outputs": [],
   "source": []
  },
  {
   "cell_type": "markdown",
   "metadata": {},
   "source": [
    "8. Train \n",
    "    - Train your model\n",
    "    - Need to write your training code in pure Python and PyTorch or use another library like lightning or ignite"
   ]
  },
  {
   "cell_type": "code",
   "execution_count": null,
   "metadata": {},
   "outputs": [],
   "source": []
  },
  {
   "cell_type": "markdown",
   "metadata": {},
   "source": [
    "9. Test \n",
    "    - Run prediction on your test set\n",
    "    - Extract relevant metrics\n",
    "    - Measure inference time"
   ]
  },
  {
   "cell_type": "code",
   "execution_count": null,
   "metadata": {},
   "outputs": [],
   "source": []
  }
 ],
 "metadata": {
  "kernelspec": {
   "display_name": "Python 3",
   "language": "python",
   "name": "python3"
  },
  "language_info": {
   "codemirror_mode": {
    "name": "ipython",
    "version": 3
   },
   "file_extension": ".py",
   "mimetype": "text/x-python",
   "name": "python",
   "nbconvert_exporter": "python",
   "pygments_lexer": "ipython3",
   "version": "3.8.5"
  }
 },
 "nbformat": 4,
 "nbformat_minor": 4
}
